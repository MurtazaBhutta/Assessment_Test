{
 "cells": [
  {
   "cell_type": "markdown",
   "metadata": {},
   "source": [
    "# Q.1"
   ]
  },
  {
   "cell_type": "code",
   "execution_count": 38,
   "metadata": {},
   "outputs": [],
   "source": [
    "def spiralPrint(m, n, a):\n",
    "    k = 0\n",
    "    l = 0\n",
    " \n",
    "    ''' k - starting row index\n",
    "        m - ending row index\n",
    "        l - starting column index\n",
    "        n - ending column index\n",
    "        i - iterator '''\n",
    " \n",
    "    while (k < m and l < n):\n",
    " \n",
    "        # Print the first row from\n",
    "        # the remaining rows\n",
    "        for i in range(l, n):\n",
    "            print(a[k][i], end=\" \")\n",
    " \n",
    "        k += 1\n",
    " \n",
    "        # Print the last column from\n",
    "        # the remaining columns\n",
    "        for i in range(k, m):\n",
    "            print(a[i][n - 1], end=\" \")\n",
    " \n",
    "        n -= 1\n",
    " \n",
    "        # Print the last row from\n",
    "        # the remaining rows\n",
    "        if (k < m):\n",
    " \n",
    "            for i in range(n - 1, (l - 1), -1):\n",
    "                print(a[m - 1][i], end=\" \")\n",
    " \n",
    "            m -= 1\n",
    " \n",
    "        # Print the first column from\n",
    "        # the remaining columns\n",
    "        if (l < n):\n",
    "            for i in range(m - 1, k - 1, -1):\n",
    "                print(a[i][l], end=\" \")\n",
    " \n",
    "            l += 1\n",
    " "
   ]
  },
  {
   "cell_type": "code",
   "execution_count": 39,
   "metadata": {},
   "outputs": [
    {
     "name": "stdout",
     "output_type": "stream",
     "text": [
      "1 2 3 4 5 6 12 18 17 16 15 14 13 7 8 9 10 11 "
     ]
    }
   ],
   "source": [
    "# Driver Code\n",
    "a = [[1, 2, 3, 4, 5, 6],\n",
    "     [7, 8, 9, 10, 11, 12],\n",
    "     [13, 14, 15, 16, 17, 18]]\n",
    " \n",
    "R = 3\n",
    "C = 6\n",
    " \n",
    "# Function Call\n",
    "spiralPrint(R, C, a)"
   ]
  },
  {
   "cell_type": "raw",
   "metadata": {},
   "source": [
    "Complexity Analysis: \n",
    "\n",
    "Time Complexity: O(m*n). \n",
    "To traverse the matrix O(m*n) time is required.\n",
    "Space Complexity: O(1). \n",
    "No extra space is required."
   ]
  },
  {
   "cell_type": "markdown",
   "metadata": {},
   "source": [
    "\n",
    "\n",
    "# Q.2"
   ]
  },
  {
   "cell_type": "code",
   "execution_count": 40,
   "metadata": {},
   "outputs": [],
   "source": [
    "def printMaxActivities(s , f ):\n",
    "    n = len(f)  #we can manually set the value of n e.g, N=2, or N=4. as per requirements. But I coded this function generally \n",
    "    \n",
    "    \n",
    "    print(\"The following activities are selected\")\n",
    " \n",
    "    # The first activity is always selected\n",
    "    i = 0\n",
    "    print(i),\n",
    " \n",
    "    # Consider rest of the activities\n",
    "    for j in range(n):\n",
    " \n",
    "        # If this activity has start time greater than\n",
    "        # or equal to the finish time of previously\n",
    "        # selected activity, then select it\n",
    "        if s[j] >= f[i]:\n",
    "            print(j),\n",
    "            i = j\n",
    " "
   ]
  },
  {
   "cell_type": "code",
   "execution_count": 41,
   "metadata": {},
   "outputs": [
    {
     "name": "stdout",
     "output_type": "stream",
     "text": [
      "The following activities are selected\n",
      "0\n",
      "1\n",
      "3\n",
      "4\n"
     ]
    }
   ],
   "source": [
    "# Driver program to test above function\n",
    "s = [1 , 3 , 0 , 5 , 8 , 5]\n",
    "f = [2 , 4 , 6 , 7 , 9 , 9]\n",
    "printMaxActivities(s , f)"
   ]
  },
  {
   "cell_type": "markdown",
   "metadata": {},
   "source": [
    "# Q.3"
   ]
  },
  {
   "cell_type": "code",
   "execution_count": 51,
   "metadata": {},
   "outputs": [],
   "source": [
    "def findMinInsertions(str, l, h):\n",
    " \n",
    "    # Base Cases\n",
    "    if (l > h):\n",
    "        return sys.maxsize\n",
    "    if (l == h):\n",
    "        return 0\n",
    "    if (l == h - 1):\n",
    "        return 0 if(str[l] == str[h]) else 1\n",
    " \n",
    "    # Check if the first and last characters are\n",
    "    # same. On the basis of the comparison result,\n",
    "    # decide which subrpoblem(s) to call\n",
    "     \n",
    "    if(str[l] == str[h]):\n",
    "        return findMinInsertions(str, l + 1, h - 1)\n",
    "    else:\n",
    "        return (min(findMinInsertions(str, l, h - 1),\n",
    "                    findMinInsertions(str, l + 1, h)) + 1)\n",
    "    "
   ]
  },
  {
   "cell_type": "code",
   "execution_count": 56,
   "metadata": {},
   "outputs": [
    {
     "name": "stdout",
     "output_type": "stream",
     "text": [
      "0\n"
     ]
    }
   ],
   "source": [
    "# Driver Code\n",
    "if __name__ == \"__main__\":\n",
    "     \n",
    "    str = \"aa\"\n",
    "    print(findMinInsertions(str, 0, len(str) - 1))\n",
    " "
   ]
  },
  {
   "cell_type": "raw",
   "metadata": {},
   "source": [
    "Time complexity: O(N^2) \n",
    "Auxiliary Space: O(N^2)"
   ]
  },
  {
   "cell_type": "markdown",
   "metadata": {},
   "source": [
    "# Q.4"
   ]
  },
  {
   "cell_type": "code",
   "execution_count": 95,
   "metadata": {},
   "outputs": [],
   "source": [
    "def findMinimum(arr,n,k): \n",
    "  \n",
    "    res = 0\n",
    "    i=0\n",
    "    while(n): \n",
    "      \n",
    "        # Buy current candy \n",
    "        res += arr[i] \n",
    "   \n",
    "        # And take k \n",
    "        # candies for free \n",
    "        # from the last \n",
    "        n = n-k \n",
    "        i+=1\n",
    "    return res "
   ]
  },
  {
   "cell_type": "code",
   "execution_count": 107,
   "metadata": {},
   "outputs": [],
   "source": [
    "# Function to find \n",
    "# the maximum amount \n",
    "# to buy all candies \n",
    "def findMaximum(arr, n, k): \n",
    "  \n",
    "    res = 0\n",
    "    index = 0\n",
    "    i=n-1\n",
    "    while(i>=index): \n",
    "      \n",
    "        # Buy candy with \n",
    "        # maximum amount \n",
    "        res += arr[i] \n",
    "   \n",
    "        # And get k candies \n",
    "        # for free from \n",
    "        # the starting \n",
    "        index += k \n",
    "        i -= 1\n",
    "  \n",
    "    return res "
   ]
  },
  {
   "cell_type": "code",
   "execution_count": 108,
   "metadata": {},
   "outputs": [
    {
     "name": "stdout",
     "output_type": "stream",
     "text": [
      "3   7\n"
     ]
    }
   ],
   "source": [
    "# Driver code \n",
    "  \n",
    "arr = [3, 2, 1, 4] \n",
    "n = len(arr) #Used general value, we can used for n=2 or other values also \n",
    "k = 2\n",
    "  \n",
    "arr.sort() \n",
    "   \n",
    "print(findMinimum(arr, n, k),\" \", \n",
    "    findMaximum(arr, n, k)) "
   ]
  },
  {
   "cell_type": "raw",
   "metadata": {},
   "source": [
    "Expected Time Complexity : O(nlogn)\n",
    "\n"
   ]
  },
  {
   "cell_type": "code",
   "execution_count": null,
   "metadata": {},
   "outputs": [],
   "source": []
  }
 ],
 "metadata": {
  "kernelspec": {
   "display_name": "Python 3",
   "language": "python",
   "name": "python3"
  },
  "language_info": {
   "codemirror_mode": {
    "name": "ipython",
    "version": 3
   },
   "file_extension": ".py",
   "mimetype": "text/x-python",
   "name": "python",
   "nbconvert_exporter": "python",
   "pygments_lexer": "ipython3",
   "version": "3.7.4"
  }
 },
 "nbformat": 4,
 "nbformat_minor": 2
}
